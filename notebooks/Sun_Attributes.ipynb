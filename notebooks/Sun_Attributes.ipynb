{
  "nbformat": 4,
  "nbformat_minor": 0,
  "metadata": {
    "colab": {
      "name": "Sun Attributes.ipynb",
      "provenance": [],
      "collapsed_sections": []
    },
    "kernelspec": {
      "name": "python3",
      "display_name": "Python 3"
    },
    "accelerator": "GPU"
  },
  "cells": [
    {
      "cell_type": "markdown",
      "metadata": {
        "id": "Mf3HDqxLW1uz",
        "colab_type": "text"
      },
      "source": [
        "##**Notebook for sun attribute classification in tensorflow 2**\n",
        "\n",
        "###A Lot of this code is taken from Tensorflow 2's [tutorial](https://www.tensorflow.org/beta/tutorials/load_data/images) to load data\n",
        "\n",
        "+ First Objective is to Load the images and attributes to Create a dataset\n"
      ]
    },
    {
      "cell_type": "code",
      "metadata": {
        "id": "P-C2mbg5gIIj",
        "colab_type": "code",
        "outputId": "14fb6efb-9f14-4696-8e88-0fdb4dd11052",
        "colab": {
          "base_uri": "https://localhost:8080/",
          "height": 34
        }
      },
      "source": [
        "from google.colab import drive\n",
        "drive.mount('/content/gdrive')"
      ],
      "execution_count": 0,
      "outputs": [
        {
          "output_type": "stream",
          "text": [
            "Drive already mounted at /content/gdrive; to attempt to forcibly remount, call drive.mount(\"/content/gdrive\", force_remount=True).\n"
          ],
          "name": "stdout"
        }
      ]
    },
    {
      "cell_type": "code",
      "metadata": {
        "id": "iWbllTFsyyFc",
        "colab_type": "code",
        "colab": {}
      },
      "source": [
        "!pip install -q tensorflow-gpu==2.0.0-beta1\n",
        "import os\n",
        "import scipy.io\n",
        "import pandas as pd\n",
        "import numpy as np\n",
        "import tensorflow as tf\n",
        "#import tensorflow_datasets as tfds\n",
        "from PIL import Image\n",
        "from sklearn.model_selection import train_test_split\n",
        "import matplotlib.pyplot as plt"
      ],
      "execution_count": 0,
      "outputs": []
    },
    {
      "cell_type": "markdown",
      "metadata": {
        "id": "AtNVRFI0ZId2",
        "colab_type": "text"
      },
      "source": [
        "The path to all images is stored in the images.mat file"
      ]
    },
    {
      "cell_type": "code",
      "metadata": {
        "id": "jEzHiAYaiauo",
        "colab_type": "code",
        "colab": {}
      },
      "source": [
        "images = scipy.io.loadmat('gdrive/My Drive/Sun_Att/SUNAttributeDB/images.mat')\n",
        "im_list = [list(images['images'][i][0])[0] for i in range(len(images['images']))]\n",
        "im_path  = ['gdrive/My Drive/Sun_Att/images/' + str(i) for i in im_list]"
      ],
      "execution_count": 0,
      "outputs": []
    },
    {
      "cell_type": "code",
      "metadata": {
        "id": "BQF_r10xyMtU",
        "colab_type": "code",
        "outputId": "61d14191-3dfc-40bf-9816-d6e176de966e",
        "colab": {
          "base_uri": "https://localhost:8080/",
          "height": 68
        }
      },
      "source": [
        "im_path[0:3]"
      ],
      "execution_count": 0,
      "outputs": [
        {
          "output_type": "execute_result",
          "data": {
            "text/plain": [
              "['gdrive/My Drive/Sun_Att/images/a/abbey/sun_aakbdcgfpksytcwj.jpg',\n",
              " 'gdrive/My Drive/Sun_Att/images/a/abbey/sun_aaoktempcmudsvna.jpg',\n",
              " 'gdrive/My Drive/Sun_Att/images/a/abbey/sun_abegcweqnetpdlrh.jpg']"
            ]
          },
          "metadata": {
            "tags": []
          },
          "execution_count": 4
        }
      ]
    },
    {
      "cell_type": "markdown",
      "metadata": {
        "id": "kCam_n1rZSvt",
        "colab_type": "text"
      },
      "source": [
        "Path to attributes is stored in attributeLabels_continuous.mat\n",
        "\n",
        "The labels are loaded and multiplied by 100 then converted into integers so that the np.where command can work. It was not working for small float values for some reason"
      ]
    },
    {
      "cell_type": "code",
      "metadata": {
        "id": "3CmBeRznljtf",
        "colab_type": "code",
        "colab": {}
      },
      "source": [
        "attributes = scipy.io.loadmat('gdrive/My Drive/Sun_Att/SUNAttributeDB/attributeLabels_continuous.mat')"
      ],
      "execution_count": 0,
      "outputs": []
    },
    {
      "cell_type": "code",
      "metadata": {
        "id": "SBCalrxglxen",
        "colab_type": "code",
        "outputId": "284958d6-979d-4e36-d9a6-a1458b23edce",
        "colab": {
          "base_uri": "https://localhost:8080/",
          "height": 153
        }
      },
      "source": [
        "labels = attributes['labels_cv']\n",
        "labels = labels*100\n",
        "labels = labels.astype(int)\n",
        "labels[0]"
      ],
      "execution_count": 0,
      "outputs": [
        {
          "output_type": "execute_result",
          "data": {
            "text/plain": [
              "array([  0,   0,   0,   0,   0,  66,   0,   0,   0,   0,   0,   0,   0,\n",
              "         0,   0,   0,   0,   0,   0,  33,   0,   0,   0,   0,   0,  33,\n",
              "         0,   0,   0,   0,   0,   0,   0,   0,   0, 100,   0,   0,   0,\n",
              "         0,   0,   0,   0,   0,   0,   0,   0,   0,   0,  33,   0,   0,\n",
              "         0,  33,   0,   0,   0,   0,   0,   0,   0,  33,   0,   0,  33,\n",
              "         0,   0,   0,   0,   0,   0,   0,   0,   0,  33,  33,   0,  66,\n",
              "         0,   0,   0,   0,   0,   0,   0,   0,   0,   0, 100,  33,   0,\n",
              "         0,   0,  33,   0,  66,   0, 100,   0,   0,   0,   0])"
            ]
          },
          "metadata": {
            "tags": []
          },
          "execution_count": 6
        }
      ]
    },
    {
      "cell_type": "code",
      "metadata": {
        "id": "kzhipkWVK3V0",
        "colab_type": "code",
        "colab": {}
      },
      "source": [
        "labels = np.where(labels==33, 1, labels)\n",
        "labels = np.where(labels==66, 1, labels)\n",
        "labels = np.where(labels==100, 1, labels)"
      ],
      "execution_count": 0,
      "outputs": []
    },
    {
      "cell_type": "markdown",
      "metadata": {
        "id": "RQ_2t_EJZyYc",
        "colab_type": "text"
      },
      "source": [
        "The attributes here are changed where it is 1 if it is present and 0 if not, since we're only interesed to know whether the attribute is present or not"
      ]
    },
    {
      "cell_type": "code",
      "metadata": {
        "id": "ru7_dsN-LTW8",
        "colab_type": "code",
        "outputId": "9b7da247-ee8e-4a13-9c76-1add0a1ca00b",
        "colab": {
          "base_uri": "https://localhost:8080/",
          "height": 102
        }
      },
      "source": [
        "labels[0]"
      ],
      "execution_count": 0,
      "outputs": [
        {
          "output_type": "execute_result",
          "data": {
            "text/plain": [
              "array([0, 0, 0, 0, 0, 1, 0, 0, 0, 0, 0, 0, 0, 0, 0, 0, 0, 0, 0, 1, 0, 0,\n",
              "       0, 0, 0, 1, 0, 0, 0, 0, 0, 0, 0, 0, 0, 1, 0, 0, 0, 0, 0, 0, 0, 0,\n",
              "       0, 0, 0, 0, 0, 1, 0, 0, 0, 1, 0, 0, 0, 0, 0, 0, 0, 1, 0, 0, 1, 0,\n",
              "       0, 0, 0, 0, 0, 0, 0, 0, 1, 1, 0, 1, 0, 0, 0, 0, 0, 0, 0, 0, 0, 0,\n",
              "       1, 1, 0, 0, 0, 1, 0, 1, 0, 1, 0, 0, 0, 0])"
            ]
          },
          "metadata": {
            "tags": []
          },
          "execution_count": 8
        }
      ]
    },
    {
      "cell_type": "code",
      "metadata": {
        "id": "jgelIbFvTfl5",
        "colab_type": "code",
        "outputId": "fd76b2de-c39a-43f7-8b37-4d562a14e8a7",
        "colab": {
          "base_uri": "https://localhost:8080/",
          "height": 34
        }
      },
      "source": [
        "len(labels[0])"
      ],
      "execution_count": 0,
      "outputs": [
        {
          "output_type": "execute_result",
          "data": {
            "text/plain": [
              "102"
            ]
          },
          "metadata": {
            "tags": []
          },
          "execution_count": 9
        }
      ]
    },
    {
      "cell_type": "code",
      "metadata": {
        "id": "FkxxOCaUlzDn",
        "colab_type": "code",
        "outputId": "8dc77423-47cc-44fa-cf51-4ba6fef1deed",
        "colab": {
          "base_uri": "https://localhost:8080/",
          "height": 34
        }
      },
      "source": [
        "len(attributes['labels_cv'])"
      ],
      "execution_count": 0,
      "outputs": [
        {
          "output_type": "execute_result",
          "data": {
            "text/plain": [
              "14340"
            ]
          },
          "metadata": {
            "tags": []
          },
          "execution_count": 10
        }
      ]
    },
    {
      "cell_type": "code",
      "metadata": {
        "id": "1MJ3uz13NPpb",
        "colab_type": "code",
        "colab": {}
      },
      "source": [
        "x_train, x_val, y_train, y_val = train_test_split(im_path, labels, test_size=0.15)"
      ],
      "execution_count": 0,
      "outputs": []
    },
    {
      "cell_type": "code",
      "metadata": {
        "id": "T_adCemHN5hh",
        "colab_type": "code",
        "outputId": "85ecfdfc-fbdd-4693-b7a5-a5e1f44956a8",
        "colab": {
          "base_uri": "https://localhost:8080/",
          "height": 119
        }
      },
      "source": [
        "x_train[0], y_train[0]"
      ],
      "execution_count": 0,
      "outputs": [
        {
          "output_type": "execute_result",
          "data": {
            "text/plain": [
              "('gdrive/My Drive/Sun_Att/images/c/circus_tent/outdoor/sun_apjttwzdvavbhosc.jpg',\n",
              " array([0, 0, 1, 0, 1, 1, 0, 0, 1, 0, 0, 0, 0, 0, 0, 0, 0, 0, 1, 1, 0, 0,\n",
              "        0, 0, 0, 0, 0, 0, 0, 0, 0, 0, 0, 0, 0, 0, 0, 0, 1, 0, 1, 1, 1, 0,\n",
              "        0, 0, 0, 0, 0, 1, 0, 0, 0, 0, 0, 0, 0, 1, 1, 1, 0, 0, 1, 0, 0, 0,\n",
              "        0, 0, 0, 0, 0, 0, 0, 0, 1, 0, 0, 0, 0, 0, 0, 0, 1, 0, 0, 1, 0, 0,\n",
              "        1, 1, 1, 0, 0, 1, 0, 1, 0, 0, 0, 0, 0, 1]))"
            ]
          },
          "metadata": {
            "tags": []
          },
          "execution_count": 12
        }
      ]
    },
    {
      "cell_type": "code",
      "metadata": {
        "id": "9t0cD6NjJ7Ee",
        "colab_type": "code",
        "colab": {}
      },
      "source": [
        "path_ds = tf.data.Dataset.from_tensor_slices(x_train)\n",
        "def preprocess_image(image):\n",
        "    image = tf.image.decode_image(image, channels=3, expand_animations=False)\n",
        "    image = tf.image.resize(image, [400, 400])\n",
        "    image /= 255.0  # normalize to [0,1] range\n",
        "\n",
        "    return image\n",
        "\n",
        "def load_and_preprocess_image(path):\n",
        "    image = tf.io.read_file(path)\n",
        "    return preprocess_image(image)"
      ],
      "execution_count": 0,
      "outputs": []
    },
    {
      "cell_type": "code",
      "metadata": {
        "id": "JIGaRk1DONQR",
        "colab_type": "code",
        "colab": {}
      },
      "source": [
        "image_ds = path_ds.map(load_and_preprocess_image, num_parallel_calls=tf.data.experimental.AUTOTUNE)\n",
        "label_ds = tf.data.Dataset.from_tensor_slices(tf.cast(y_train, tf.int64))"
      ],
      "execution_count": 0,
      "outputs": []
    },
    {
      "cell_type": "markdown",
      "metadata": {
        "id": "cW3SSeCvF1JJ",
        "colab_type": "text"
      },
      "source": [
        ""
      ]
    },
    {
      "cell_type": "code",
      "metadata": {
        "id": "xjELTF8COeos",
        "colab_type": "code",
        "outputId": "6030b04d-6c25-4374-bc62-4b593a5a9b7e",
        "colab": {
          "base_uri": "https://localhost:8080/",
          "height": 51
        }
      },
      "source": [
        "for i,j in enumerate(image_ds.take(2)):\n",
        "    print(i, j.shape)"
      ],
      "execution_count": 0,
      "outputs": [
        {
          "output_type": "stream",
          "text": [
            "0 (400, 400, 3)\n",
            "1 (400, 400, 3)\n"
          ],
          "name": "stdout"
        }
      ]
    },
    {
      "cell_type": "code",
      "metadata": {
        "id": "IR307EhMQueY",
        "colab_type": "code",
        "outputId": "e1aad12f-46ec-4fcc-8ffb-3172d54cabb4",
        "colab": {
          "base_uri": "https://localhost:8080/",
          "height": 51
        }
      },
      "source": [
        "for i,j in enumerate(label_ds.take(2)):\n",
        "    print(i, j.shape)"
      ],
      "execution_count": 0,
      "outputs": [
        {
          "output_type": "stream",
          "text": [
            "0 (102,)\n",
            "1 (102,)\n"
          ],
          "name": "stdout"
        }
      ]
    },
    {
      "cell_type": "code",
      "metadata": {
        "id": "EjqYEMe0RPFa",
        "colab_type": "code",
        "colab": {}
      },
      "source": [
        "image_label_ds = tf.data.Dataset.zip((image_ds, label_ds))"
      ],
      "execution_count": 0,
      "outputs": []
    },
    {
      "cell_type": "code",
      "metadata": {
        "id": "h_-6X_KSRWpy",
        "colab_type": "code",
        "outputId": "3e99c54d-57ef-4661-ae13-662ea5984ab0",
        "colab": {
          "base_uri": "https://localhost:8080/",
          "height": 34
        }
      },
      "source": [
        "image_label_ds"
      ],
      "execution_count": 0,
      "outputs": [
        {
          "output_type": "execute_result",
          "data": {
            "text/plain": [
              "<ZipDataset shapes: ((400, 400, None), (102,)), types: (tf.float32, tf.int64)>"
            ]
          },
          "metadata": {
            "tags": []
          },
          "execution_count": 19
        }
      ]
    },
    {
      "cell_type": "code",
      "metadata": {
        "id": "ydg5j-qfRkc4",
        "colab_type": "code",
        "outputId": "899476c3-51d1-4299-c1ee-48ee07cd31d9",
        "colab": {
          "base_uri": "https://localhost:8080/",
          "height": 34
        }
      },
      "source": [
        "BATCH_SIZE = 32\n",
        "ds = image_label_ds.apply(\n",
        "  tf.data.experimental.shuffle_and_repeat(buffer_size=400))\n",
        "ds = ds.batch(BATCH_SIZE)\n",
        "ds = ds.prefetch(buffer_size=tf.data.experimental.AUTOTUNE)\n",
        "ds"
      ],
      "execution_count": 0,
      "outputs": [
        {
          "output_type": "execute_result",
          "data": {
            "text/plain": [
              "<PrefetchDataset shapes: ((None, 400, 400, None), (None, 102)), types: (tf.float32, tf.int64)>"
            ]
          },
          "metadata": {
            "tags": []
          },
          "execution_count": 21
        }
      ]
    },
    {
      "cell_type": "code",
      "metadata": {
        "id": "B39epAsTOrpJ",
        "colab_type": "code",
        "colab": {}
      },
      "source": [
        "def change_range(image,label):\n",
        "    return 2*image-1, label\n",
        "\n",
        "train_ds = ds.map(change_range)"
      ],
      "execution_count": 0,
      "outputs": []
    },
    {
      "cell_type": "code",
      "metadata": {
        "id": "gcxjK160Ovw3",
        "colab_type": "code",
        "outputId": "3ea98c10-6e24-4c44-ce76-ffd4f7e6262f",
        "colab": {
          "base_uri": "https://localhost:8080/",
          "height": 34
        }
      },
      "source": [
        "val_path_ds = tf.data.Dataset.from_tensor_slices(x_val)\n",
        "val_image_ds = val_path_ds.map(load_and_preprocess_image, num_parallel_calls=tf.data.experimental.AUTOTUNE)\n",
        "val_label_ds = tf.data.Dataset.from_tensor_slices(tf.cast(y_val, tf.int64))\n",
        "val_image_label_ds = tf.data.Dataset.zip((val_image_ds, val_label_ds))\n",
        "BATCH_SIZE = 32\n",
        "\n",
        "# Setting a shuffle buffer size as large as the dataset ensures that the data is\n",
        "# completely shuffled.\n",
        "val_ds = val_image_label_ds.apply(\n",
        "  tf.data.experimental.shuffle_and_repeat(buffer_size=400))\n",
        "val_ds = val_ds.batch(BATCH_SIZE)\n",
        "# `prefetch` lets the dataset fetch batches in the background while the model is training.\n",
        "val_ds = val_ds.prefetch(buffer_size=tf.data.experimental.AUTOTUNE)\n",
        "val_ds"
      ],
      "execution_count": 0,
      "outputs": [
        {
          "output_type": "execute_result",
          "data": {
            "text/plain": [
              "<PrefetchDataset shapes: ((None, 400, 400, None), (None, 102)), types: (tf.float32, tf.int64)>"
            ]
          },
          "metadata": {
            "tags": []
          },
          "execution_count": 23
        }
      ]
    },
    {
      "cell_type": "code",
      "metadata": {
        "id": "T11H9D-MPEM9",
        "colab_type": "code",
        "colab": {}
      },
      "source": [
        "val_ds = val_ds.map(change_range)"
      ],
      "execution_count": 0,
      "outputs": []
    },
    {
      "cell_type": "code",
      "metadata": {
        "id": "VXOgzTO2R0o2",
        "colab_type": "code",
        "outputId": "0b2ff8f0-5048-42b7-d13f-90d88b34fccd",
        "colab": {
          "base_uri": "https://localhost:8080/",
          "height": 71
        }
      },
      "source": [
        "mobile_net = tf.keras.applications.MobileNetV2(input_shape=(400, 400, 3), include_top=False)\n",
        "mobile_net.trainable=False"
      ],
      "execution_count": 0,
      "outputs": [
        {
          "output_type": "stream",
          "text": [
            "/usr/local/lib/python3.6/dist-packages/keras_applications/mobilenet_v2.py:294: UserWarning: `input_shape` is undefined or non-square, or `rows` is not in [96, 128, 160, 192, 224]. Weights for input shape (224, 224) will be loaded as the default.\n",
            "  warnings.warn('`input_shape` is undefined or non-square, '\n"
          ],
          "name": "stderr"
        }
      ]
    },
    {
      "cell_type": "code",
      "metadata": {
        "id": "coxECFiswsRQ",
        "colab_type": "code",
        "outputId": "ffdbd262-e85f-4130-bafc-522190b934d1",
        "colab": {
          "base_uri": "https://localhost:8080/",
          "height": 34
        }
      },
      "source": [
        "tf.data.experimental.cardinality(train_ds)"
      ],
      "execution_count": 0,
      "outputs": [
        {
          "output_type": "execute_result",
          "data": {
            "text/plain": [
              "<tf.Tensor: id=6575, shape=(), dtype=int64, numpy=-1>"
            ]
          },
          "metadata": {
            "tags": []
          },
          "execution_count": 26
        }
      ]
    },
    {
      "cell_type": "code",
      "metadata": {
        "id": "hZBNNYV_S1Pd",
        "colab_type": "code",
        "colab": {}
      },
      "source": [
        "image_batch, label_batch = next(iter(train_ds))"
      ],
      "execution_count": 0,
      "outputs": []
    },
    {
      "cell_type": "code",
      "metadata": {
        "id": "_ASU7aKGS49N",
        "colab_type": "code",
        "outputId": "f504e031-c8ae-47aa-9639-a70ae06bb3db",
        "colab": {
          "base_uri": "https://localhost:8080/",
          "height": 34
        }
      },
      "source": [
        "feature_map_batch = mobile_net(image_batch)\n",
        "print(feature_map_batch.shape)"
      ],
      "execution_count": 0,
      "outputs": [
        {
          "output_type": "stream",
          "text": [
            "(32, 13, 13, 1280)\n"
          ],
          "name": "stdout"
        }
      ]
    },
    {
      "cell_type": "code",
      "metadata": {
        "id": "j7Vzh3HFRSGB",
        "colab_type": "code",
        "outputId": "83c7adbc-d802-4431-cb86-7662f8e4e17b",
        "colab": {
          "base_uri": "https://localhost:8080/",
          "height": 34
        }
      },
      "source": [
        "val_image_batch, val_label_batch = next(iter(val_ds))\n",
        "val_feature_map_batch = mobile_net(val_image_batch)\n",
        "print(val_feature_map_batch.shape)"
      ],
      "execution_count": 0,
      "outputs": [
        {
          "output_type": "stream",
          "text": [
            "(32, 13, 13, 1280)\n"
          ],
          "name": "stdout"
        }
      ]
    },
    {
      "cell_type": "code",
      "metadata": {
        "id": "mFDvxInATG9O",
        "colab_type": "code",
        "colab": {}
      },
      "source": [
        "model = tf.keras.Sequential([\n",
        "    mobile_net,\n",
        "    tf.keras.layers.GlobalAveragePooling2D(),\n",
        "    tf.keras.layers.Dense(len(labels[0]), activation = 'sigmoid')])"
      ],
      "execution_count": 0,
      "outputs": []
    },
    {
      "cell_type": "code",
      "metadata": {
        "id": "MGZuzcRETkjc",
        "colab_type": "code",
        "colab": {}
      },
      "source": [
        "tmp_output = model(image_batch).numpy()"
      ],
      "execution_count": 0,
      "outputs": []
    },
    {
      "cell_type": "code",
      "metadata": {
        "id": "l1ap23JKTqF7",
        "colab_type": "code",
        "outputId": "a4af8773-2af0-457c-d1c6-8750aa5e98ed",
        "colab": {
          "base_uri": "https://localhost:8080/",
          "height": 34
        }
      },
      "source": [
        "tmp_output.shape"
      ],
      "execution_count": 0,
      "outputs": [
        {
          "output_type": "execute_result",
          "data": {
            "text/plain": [
              "(32, 102)"
            ]
          },
          "metadata": {
            "tags": []
          },
          "execution_count": 32
        }
      ]
    },
    {
      "cell_type": "code",
      "metadata": {
        "id": "W4Z_Z3KwTrrP",
        "colab_type": "code",
        "colab": {}
      },
      "source": [
        "model.compile(optimizer=tf.keras.optimizers.Adam(),\n",
        "              loss='binary_crossentropy',\n",
        "              metrics=['accuracy'])"
      ],
      "execution_count": 0,
      "outputs": []
    },
    {
      "cell_type": "code",
      "metadata": {
        "id": "BWOQV5ObTwYP",
        "colab_type": "code",
        "outputId": "f0d1dfbd-81fb-4886-bad4-85bba27f45a9",
        "colab": {
          "base_uri": "https://localhost:8080/",
          "height": 34
        }
      },
      "source": [
        "len(model.trainable_variables)"
      ],
      "execution_count": 0,
      "outputs": [
        {
          "output_type": "execute_result",
          "data": {
            "text/plain": [
              "2"
            ]
          },
          "metadata": {
            "tags": []
          },
          "execution_count": 34
        }
      ]
    },
    {
      "cell_type": "code",
      "metadata": {
        "id": "-pNUMPGnTyUr",
        "colab_type": "code",
        "outputId": "0c1f30a8-1f2a-4b84-ebf0-9ebf08d68b68",
        "colab": {
          "base_uri": "https://localhost:8080/",
          "height": 255
        }
      },
      "source": [
        "model.summary()"
      ],
      "execution_count": 0,
      "outputs": [
        {
          "output_type": "stream",
          "text": [
            "Model: \"sequential\"\n",
            "_________________________________________________________________\n",
            "Layer (type)                 Output Shape              Param #   \n",
            "=================================================================\n",
            "mobilenetv2_1.00_224 (Model) (None, 13, 13, 1280)      2257984   \n",
            "_________________________________________________________________\n",
            "global_average_pooling2d (Gl (None, 1280)              0         \n",
            "_________________________________________________________________\n",
            "dense (Dense)                (None, 102)               130662    \n",
            "=================================================================\n",
            "Total params: 2,388,646\n",
            "Trainable params: 130,662\n",
            "Non-trainable params: 2,257,984\n",
            "_________________________________________________________________\n"
          ],
          "name": "stdout"
        }
      ]
    },
    {
      "cell_type": "code",
      "metadata": {
        "id": "5lrvk0BeT01k",
        "colab_type": "code",
        "outputId": "8b4b2d12-49dd-4733-8a53-638238c38d8a",
        "colab": {
          "base_uri": "https://localhost:8080/",
          "height": 34
        }
      },
      "source": [
        "train_steps_per_epoch=len(x_train)/BATCH_SIZE\n",
        "test_steps_per_epoch=len(x_val)/BATCH_SIZE\n",
        "train_steps_per_epoch, test_steps_per_epoch"
      ],
      "execution_count": 0,
      "outputs": [
        {
          "output_type": "execute_result",
          "data": {
            "text/plain": [
              "(381.0, 68.0)"
            ]
          },
          "metadata": {
            "tags": []
          },
          "execution_count": 37
        }
      ]
    },
    {
      "cell_type": "code",
      "metadata": {
        "id": "5vBNdn98MLL5",
        "colab_type": "code",
        "outputId": "bc0ec979-dd56-477f-faf4-29256b97f43c",
        "colab": {
          "base_uri": "https://localhost:8080/",
          "height": 34
        }
      },
      "source": [
        "len(labels)"
      ],
      "execution_count": 0,
      "outputs": [
        {
          "output_type": "execute_result",
          "data": {
            "text/plain": [
              "14340"
            ]
          },
          "metadata": {
            "tags": []
          },
          "execution_count": 38
        }
      ]
    },
    {
      "cell_type": "code",
      "metadata": {
        "id": "YIGmP9uHMBVh",
        "colab_type": "code",
        "outputId": "d1ceefd1-c516-4c98-96da-453a20641811",
        "colab": {
          "base_uri": "https://localhost:8080/",
          "height": 34
        }
      },
      "source": [
        "steps_per_epoch=tf.math.ceil(len(labels)/BATCH_SIZE).numpy()\n",
        "steps_per_epoch"
      ],
      "execution_count": 0,
      "outputs": [
        {
          "output_type": "execute_result",
          "data": {
            "text/plain": [
              "449.0"
            ]
          },
          "metadata": {
            "tags": []
          },
          "execution_count": 39
        }
      ]
    },
    {
      "cell_type": "code",
      "metadata": {
        "id": "DeKfKwDDT5u8",
        "colab_type": "code",
        "outputId": "2fa92351-be63-4f8c-cd9a-9e336e6cbe19",
        "colab": {
          "base_uri": "https://localhost:8080/",
          "height": 173
        }
      },
      "source": [
        "model.fit(train_ds, epochs=4, steps_per_epoch=train_steps_per_epoch, validation_data=(val_ds), validation_steps=test_steps_per_epoch)"
      ],
      "execution_count": 0,
      "outputs": [
        {
          "output_type": "stream",
          "text": [
            "Epoch 1/2\n"
          ],
          "name": "stdout"
        },
        {
          "output_type": "stream",
          "text": [
            "W0812 19:35:34.010533 140098165557120 deprecation.py:323] From /usr/local/lib/python3.6/dist-packages/tensorflow/python/ops/math_grad.py:1250: add_dispatch_support.<locals>.wrapper (from tensorflow.python.ops.array_ops) is deprecated and will be removed in a future version.\n",
            "Instructions for updating:\n",
            "Use tf.where in 2.0, which has the same broadcast rule as np.where\n"
          ],
          "name": "stderr"
        },
        {
          "output_type": "stream",
          "text": [
            "381/381 [==============================] - 2435s 6s/step - loss: 0.2943 - accuracy: 0.8840 - val_loss: 0.2917 - val_accuracy: 0.8830\n",
            "Epoch 2/2\n",
            "381/381 [==============================] - 140s 367ms/step - loss: 0.2563 - accuracy: 0.8961 - val_loss: 0.2751 - val_accuracy: 0.8876\n"
          ],
          "name": "stdout"
        },
        {
          "output_type": "execute_result",
          "data": {
            "text/plain": [
              "<tensorflow.python.keras.callbacks.History at 0x7f6a631f3dd8>"
            ]
          },
          "metadata": {
            "tags": []
          },
          "execution_count": 41
        }
      ]
    },
    {
      "cell_type": "code",
      "metadata": {
        "id": "n8E0QdK7gShe",
        "colab_type": "code",
        "outputId": "b9e3486e-ffd9-4be6-906f-4feb95391930",
        "colab": {
          "base_uri": "https://localhost:8080/",
          "height": 34
        }
      },
      "source": [
        "test_im = tf.expand_dims(val_image_batch[1], axis=0)\n",
        "test_im.shape"
      ],
      "execution_count": 0,
      "outputs": [
        {
          "output_type": "execute_result",
          "data": {
            "text/plain": [
              "TensorShape([1, 400, 400, 3])"
            ]
          },
          "metadata": {
            "tags": []
          },
          "execution_count": 74
        }
      ]
    },
    {
      "cell_type": "code",
      "metadata": {
        "id": "bCx56uDzUC6k",
        "colab_type": "code",
        "colab": {}
      },
      "source": [
        "test_out = model.predict(test_im)"
      ],
      "execution_count": 0,
      "outputs": []
    },
    {
      "cell_type": "code",
      "metadata": {
        "id": "aTmTapcojWQz",
        "colab_type": "code",
        "outputId": "6e7f9c59-031f-49c4-ef2c-d5ffb542f7a6",
        "colab": {
          "base_uri": "https://localhost:8080/",
          "height": 374
        }
      },
      "source": [
        "test_out[0]"
      ],
      "execution_count": 0,
      "outputs": [
        {
          "output_type": "execute_result",
          "data": {
            "text/plain": [
              "array([0.0098764 , 0.2206653 , 0.20066684, 0.12631199, 0.60593295,\n",
              "       0.20537478, 0.29818672, 0.08312905, 0.86660796, 0.10559937,\n",
              "       0.03176907, 0.16858926, 0.01236215, 0.02379438, 0.0535675 ,\n",
              "       0.09715232, 0.08070478, 0.05702436, 0.27940136, 0.14336541,\n",
              "       0.03645343, 0.77432394, 0.8406855 , 0.68013173, 0.82911515,\n",
              "       0.09287405, 0.336307  , 0.7799603 , 0.03123611, 0.00486681,\n",
              "       0.03241161, 0.04931036, 0.06600982, 0.12933946, 0.01173598,\n",
              "       0.06865934, 0.584544  , 0.18383107, 0.52363133, 0.08419418,\n",
              "       0.9039204 , 0.9631185 , 0.9657166 , 0.694248  , 0.8847792 ,\n",
              "       0.877459  , 0.08762953, 0.17868146, 0.30578122, 0.15257296,\n",
              "       0.06810191, 0.13756359, 0.07794237, 0.14198199, 0.08350685,\n",
              "       0.01605085, 0.08714584, 0.04317525, 0.11219284, 0.16913259,\n",
              "       0.2745856 , 0.03872469, 0.7713981 , 0.04051003, 0.12312123,\n",
              "       0.02897906, 0.01556373, 0.06747529, 0.04892761, 0.02661797,\n",
              "       0.05062994, 0.2979083 , 0.02558517, 0.0117012 , 0.97681534,\n",
              "       0.7389668 , 0.02506009, 0.1336495 , 0.09021884, 0.05185392,\n",
              "       0.03325427, 0.46920753, 0.66667074, 0.20429364, 0.08293507,\n",
              "       0.45312327, 0.09620979, 0.551688  , 0.70908546, 0.97386724,\n",
              "       0.06515661, 0.04263285, 0.52049744, 0.66245186, 0.12079462,\n",
              "       0.24281684, 0.6601244 , 0.36154473, 0.01566881, 0.08629212,\n",
              "       0.61842066, 0.07357007], dtype=float32)"
            ]
          },
          "metadata": {
            "tags": []
          },
          "execution_count": 79
        }
      ]
    },
    {
      "cell_type": "code",
      "metadata": {
        "id": "Gk-i1jZIBhmz",
        "colab_type": "code",
        "colab": {}
      },
      "source": [
        "test_out = np.where(test_out <= 0.5, 0, 1)"
      ],
      "execution_count": 0,
      "outputs": []
    },
    {
      "cell_type": "code",
      "metadata": {
        "id": "75AOje8xh33S",
        "colab_type": "code",
        "outputId": "40e7cf3e-7093-40a7-cbd5-8ae6601ede8a",
        "colab": {
          "base_uri": "https://localhost:8080/",
          "height": 102
        }
      },
      "source": [
        "test_out[0]"
      ],
      "execution_count": 0,
      "outputs": [
        {
          "output_type": "execute_result",
          "data": {
            "text/plain": [
              "array([0, 0, 0, 0, 1, 0, 0, 0, 1, 0, 0, 0, 0, 0, 0, 0, 0, 0, 0, 0, 0, 1,\n",
              "       1, 1, 1, 0, 0, 1, 0, 0, 0, 0, 0, 0, 0, 0, 1, 0, 1, 0, 1, 1, 1, 1,\n",
              "       1, 1, 0, 0, 0, 0, 0, 0, 0, 0, 0, 0, 0, 0, 0, 0, 0, 0, 1, 0, 0, 0,\n",
              "       0, 0, 0, 0, 0, 0, 0, 0, 1, 1, 0, 0, 0, 0, 0, 0, 1, 0, 0, 0, 0, 1,\n",
              "       1, 1, 0, 0, 1, 1, 0, 0, 1, 0, 0, 0, 1, 0])"
            ]
          },
          "metadata": {
            "tags": []
          },
          "execution_count": 81
        }
      ]
    },
    {
      "cell_type": "code",
      "metadata": {
        "id": "3Pi2-uYlhKHY",
        "colab_type": "code",
        "outputId": "2b7a6ea6-bbf3-4ff6-c937-6d24fc5c9fd0",
        "colab": {
          "base_uri": "https://localhost:8080/",
          "height": 102
        }
      },
      "source": [
        "val_label_batch[1].numpy()"
      ],
      "execution_count": 0,
      "outputs": [
        {
          "output_type": "execute_result",
          "data": {
            "text/plain": [
              "array([0, 0, 0, 0, 1, 0, 0, 0, 1, 0, 0, 0, 0, 0, 0, 0, 0, 0, 0, 0, 0, 0,\n",
              "       0, 1, 1, 0, 0, 1, 0, 0, 0, 0, 0, 0, 0, 0, 1, 0, 0, 0, 1, 1, 1, 0,\n",
              "       1, 1, 0, 0, 0, 0, 0, 0, 0, 0, 0, 0, 0, 0, 0, 0, 0, 0, 0, 0, 0, 0,\n",
              "       0, 0, 0, 0, 0, 1, 0, 0, 1, 1, 0, 0, 0, 0, 0, 0, 0, 0, 0, 0, 0, 1,\n",
              "       1, 1, 0, 0, 0, 1, 0, 0, 0, 0, 0, 0, 1, 0])"
            ]
          },
          "metadata": {
            "tags": []
          },
          "execution_count": 82
        }
      ]
    },
    {
      "cell_type": "code",
      "metadata": {
        "id": "hW6WYVLBiGs9",
        "colab_type": "code",
        "outputId": "88790465-7e7c-4104-e390-8c565378c844",
        "colab": {
          "base_uri": "https://localhost:8080/",
          "height": 34
        }
      },
      "source": [
        "sum(test_out[0] * val_label_batch[1].numpy()) "
      ],
      "execution_count": 0,
      "outputs": [
        {
          "output_type": "execute_result",
          "data": {
            "text/plain": [
              "18"
            ]
          },
          "metadata": {
            "tags": []
          },
          "execution_count": 83
        }
      ]
    },
    {
      "cell_type": "code",
      "metadata": {
        "id": "qL2XFm8DjAfI",
        "colab_type": "code",
        "outputId": "e4903625-fc54-40cf-cbfc-2af8a73f8fe7",
        "colab": {
          "base_uri": "https://localhost:8080/",
          "height": 34
        }
      },
      "source": [
        "sum(val_label_batch[1].numpy())"
      ],
      "execution_count": 0,
      "outputs": [
        {
          "output_type": "execute_result",
          "data": {
            "text/plain": [
              "19"
            ]
          },
          "metadata": {
            "tags": []
          },
          "execution_count": 84
        }
      ]
    }
  ]
}